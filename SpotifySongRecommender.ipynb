{
  "nbformat": 4,
  "nbformat_minor": 0,
  "metadata": {
    "colab": {
      "provenance": []
    },
    "kernelspec": {
      "name": "python3",
      "display_name": "Python 3"
    },
    "language_info": {
      "name": "python"
    }
  },
  "cells": [
    {
      "cell_type": "code",
      "execution_count": 1,
      "metadata": {
        "id": "Syg7O4wP3Itq"
      },
      "outputs": [],
      "source": [
        "import requests\n",
        "import base64"
      ]
    },
    {
      "cell_type": "code",
      "source": [
        "CLIENT_ID='a7843066ef5440a483d97153e51725ad'\n",
        "CLIENT_SECRET='ff4a6b5ea4c24f11a0548232f9a5dd5a'\n",
        "\n",
        "client_credentials = f\"{CLIENT_ID}:{CLIENT_SECRET}\"\n",
        "client_credentials_base64 = base64.b64encode(client_credentials.encode())\n",
        "\n",
        "token_url = 'https://accounts.spotify.com/api/token'\n",
        "headers = {\n",
        "    'Authorization': f'Basic {client_credentials_base64.decode()}'\n",
        "}\n",
        "data = {\n",
        "    'grant_type': 'client_credentials'\n",
        "}\n",
        "\n",
        "response = requests.post(token_url, data=data, headers=headers)\n",
        "\n",
        "if response.status_code == 200:\n",
        "    access_token = response.json()['access_token']\n",
        "    print(\"Access token obtained successfully.\")\n",
        "else:\n",
        "    print(\"Error obtaining access token.\")\n",
        "\n"
      ],
      "metadata": {
        "colab": {
          "base_uri": "https://localhost:8080/"
        },
        "id": "QHJwqhub7fFV",
        "outputId": "1f46d024-7718-4d0a-8548-33d73e0f5c90"
      },
      "execution_count": 2,
      "outputs": [
        {
          "output_type": "stream",
          "name": "stdout",
          "text": [
            "Access token obtained successfully.\n"
          ]
        }
      ]
    },
    {
      "cell_type": "code",
      "source": [
        " !pip install spotipy"
      ],
      "metadata": {
        "colab": {
          "base_uri": "https://localhost:8080/"
        },
        "id": "cQ5-DXh-8KQm",
        "outputId": "28eb8075-f1fa-4fc9-8902-68ef66d35f17"
      },
      "execution_count": 3,
      "outputs": [
        {
          "output_type": "stream",
          "name": "stdout",
          "text": [
            "Collecting spotipy\n",
            "  Downloading spotipy-2.23.0-py3-none-any.whl (29 kB)\n",
            "Collecting redis>=3.5.3 (from spotipy)\n",
            "  Downloading redis-5.0.1-py3-none-any.whl (250 kB)\n",
            "\u001b[2K     \u001b[90m━━━━━━━━━━━━━━━━━━━━━━━━━━━━━━━━━━━━━━━\u001b[0m \u001b[32m250.3/250.3 kB\u001b[0m \u001b[31m6.4 MB/s\u001b[0m eta \u001b[36m0:00:00\u001b[0m\n",
            "\u001b[?25hRequirement already satisfied: requests>=2.25.0 in /usr/local/lib/python3.10/dist-packages (from spotipy) (2.31.0)\n",
            "Requirement already satisfied: six>=1.15.0 in /usr/local/lib/python3.10/dist-packages (from spotipy) (1.16.0)\n",
            "Requirement already satisfied: urllib3>=1.26.0 in /usr/local/lib/python3.10/dist-packages (from spotipy) (2.0.6)\n",
            "Requirement already satisfied: async-timeout>=4.0.2 in /usr/local/lib/python3.10/dist-packages (from redis>=3.5.3->spotipy) (4.0.3)\n",
            "Requirement already satisfied: charset-normalizer<4,>=2 in /usr/local/lib/python3.10/dist-packages (from requests>=2.25.0->spotipy) (3.3.0)\n",
            "Requirement already satisfied: idna<4,>=2.5 in /usr/local/lib/python3.10/dist-packages (from requests>=2.25.0->spotipy) (3.4)\n",
            "Requirement already satisfied: certifi>=2017.4.17 in /usr/local/lib/python3.10/dist-packages (from requests>=2.25.0->spotipy) (2023.7.22)\n",
            "Installing collected packages: redis, spotipy\n",
            "Successfully installed redis-5.0.1 spotipy-2.23.0\n"
          ]
        }
      ]
    },
    {
      "cell_type": "code",
      "source": [
        "import pandas as pd\n",
        "import spotipy\n",
        "from spotipy.oauth2 import SpotifyOAuth"
      ],
      "metadata": {
        "id": "FUFM9_V08SnU"
      },
      "execution_count": 4,
      "outputs": []
    },
    {
      "cell_type": "code",
      "source": [
        "#Get the playlist based on spotify playlist id\n",
        "\n",
        "def get_playlist_from_spotify(playlistid, token):\n",
        "  sp=spotipy.Spotify(auth=token)\n",
        "  alltracks=sp.playlist_tracks(playlistid,fields='items(track(id,name,artists,album(id,name)))')\n",
        "  data=[]\n",
        "  for trackinfo in alltracks['items']:\n",
        "    track=trackinfo['track']\n",
        "    name=track['name']\n",
        "    artists = ', '.join([artist['name'] for artist in track['artists']])\n",
        "    album_name = track['album']['name']\n",
        "    album_id = track['album']['id']\n",
        "    track_id = track['id']\n",
        "    audio_features=sp.audio_features(track_id)[0] if track_id is not None else None\n",
        "    thistrack=sp.track(track_id) if track_id is not None else None\n",
        "    album_info = sp.album(album_id) if album_id is not None else None\n",
        "    release_date = album_info['release_date'] if album_info else None\n",
        "    popularity=thistrack['popularity'] if thistrack else None\n",
        "    track_details={\n",
        "        'Name':name,\n",
        "        'Artists':artists,\n",
        "        'Album Name':album_name,\n",
        "        'Track ID':track_id,\n",
        "        'Release Date':release_date,\n",
        "        'Popularity':popularity,\n",
        "        'Danceability':audio_features['danceability'] if audio_features else None,\n",
        "        'Energy':audio_features['energy'] if audio_features else None,\n",
        "        'Key':audio_features['key'] if audio_features else None,\n",
        "        'Loudness':audio_features['loudness'] if audio_features else None,\n",
        "        'Mode':audio_features['mode'] if audio_features else None,\n",
        "        'Speechiness':audio_features['speechiness'] if audio_features else None,\n",
        "        'Acousticness':audio_features['acousticness'] if audio_features else None,\n",
        "        'Instrumentalness':audio_features['instrumentalness'] if audio_features else None,\n",
        "        'Liveness':audio_features['liveness'] if audio_features else None,\n",
        "        'Valence':audio_features['valence'] if audio_features else None,\n",
        "        'Tempo':audio_features['tempo'] if audio_features else None,\n",
        "\n",
        "    }\n",
        "    data.append(track_details)\n",
        "\n",
        "  df=pd.DataFrame(data)\n",
        "  return df\n",
        "\n"
      ],
      "metadata": {
        "id": "V2LIdLE88l0U"
      },
      "execution_count": 5,
      "outputs": []
    },
    {
      "cell_type": "code",
      "source": [
        "music_df = get_playlist_from_spotify('3IJB33bPY9n37Wy1CcPrlj', access_token)"
      ],
      "metadata": {
        "id": "XhTyfz1Y_PKj"
      },
      "execution_count": 6,
      "outputs": []
    },
    {
      "cell_type": "code",
      "source": [
        "print(music_df['Name'])"
      ],
      "metadata": {
        "colab": {
          "base_uri": "https://localhost:8080/"
        },
        "id": "wMKVW_cT_iiS",
        "outputId": "48602a4e-1f8d-4f1f-a8f2-e8322cedacf4"
      },
      "execution_count": 7,
      "outputs": [
        {
          "output_type": "stream",
          "name": "stdout",
          "text": [
            "0                                       Patola\n",
            "1     Why This Kolaveri Di? - The Soup of Love\n",
            "2                               Karuppinazhaku\n",
            "3                             Dil Diyan Gallan\n",
            "4             Ee Ulakin (From \"King of Kotha\")\n",
            "                        ...                   \n",
            "95                 Falak Tak (slowed & reverb)\n",
            "96                 London View - Bootleg Remix\n",
            "97                                     ilomilo\n",
            "98               Mask Off (Politik Trap Remix)\n",
            "99           Runaway (TikTok Classics Version)\n",
            "Name: Name, Length: 100, dtype: object\n"
          ]
        }
      ]
    },
    {
      "cell_type": "code",
      "source": [
        "print(music_df.isnull().sum())"
      ],
      "metadata": {
        "colab": {
          "base_uri": "https://localhost:8080/"
        },
        "id": "pyArS9WC3xYK",
        "outputId": "34ad54cb-4fee-498d-f811-f0739284a270"
      },
      "execution_count": 8,
      "outputs": [
        {
          "output_type": "stream",
          "name": "stdout",
          "text": [
            "Name                0\n",
            "Artists             0\n",
            "Album Name          0\n",
            "Track ID            8\n",
            "Release Date        8\n",
            "Popularity          8\n",
            "Danceability        8\n",
            "Energy              8\n",
            "Key                 8\n",
            "Loudness            8\n",
            "Mode                8\n",
            "Speechiness         8\n",
            "Acousticness        8\n",
            "Instrumentalness    8\n",
            "Liveness            8\n",
            "Valence             8\n",
            "Tempo               8\n",
            "dtype: int64\n"
          ]
        }
      ]
    },
    {
      "cell_type": "code",
      "source": [
        "music_df=music_df.dropna()"
      ],
      "metadata": {
        "id": "TYLieq1z3-V6"
      },
      "execution_count": 14,
      "outputs": []
    },
    {
      "cell_type": "code",
      "source": [
        "import pandas as pd\n",
        "import numpy as np\n",
        "from sklearn.model_selection import train_test_split\n",
        "from sklearn.preprocessing import MinMaxScaler\n",
        "from datetime import datetime\n",
        "from sklearn.metrics.pairwise import cosine_similarity"
      ],
      "metadata": {
        "id": "WpD2YChz4v1a"
      },
      "execution_count": 15,
      "outputs": []
    },
    {
      "cell_type": "code",
      "source": [
        "scaler=MinMaxScaler()\n",
        "song_features= music_df[['Danceability', 'Energy', 'Key', 'Loudness', 'Mode', 'Speechiness', 'Acousticness','Instrumentalness', 'Liveness', 'Valence', 'Tempo']].values\n",
        "song_features_scaled=scaler.fit_transform(song_features)\n",
        "song_features"
      ],
      "metadata": {
        "colab": {
          "base_uri": "https://localhost:8080/"
        },
        "id": "XlyG0cnd42Y6",
        "outputId": "7eccafe8-d80d-40de-f4c3-bb6f5eda6d2a"
      },
      "execution_count": 16,
      "outputs": [
        {
          "output_type": "execute_result",
          "data": {
            "text/plain": [
              "array([[5.79000e-01, 8.45000e-01, 3.00000e+00, ..., 9.39000e-02,\n",
              "        5.30000e-01, 1.75657e+02],\n",
              "       [8.20000e-01, 7.85000e-01, 5.00000e+00, ..., 3.72000e-01,\n",
              "        8.94000e-01, 1.40013e+02],\n",
              "       [6.09000e-01, 8.64000e-01, 4.00000e+00, ..., 8.41000e-02,\n",
              "        7.76000e-01, 1.84056e+02],\n",
              "       ...,\n",
              "       [4.53000e-01, 5.31000e-01, 1.00000e+00, ..., 1.50000e-01,\n",
              "        3.24000e-01, 9.17180e+01],\n",
              "       [8.28000e-01, 6.87000e-01, 5.00000e+00, ..., 1.24000e-01,\n",
              "        2.08000e-01, 1.19006e+02],\n",
              "       [3.65000e-01, 4.10000e-01, 1.10000e+01, ..., 1.06000e-01,\n",
              "        1.25000e-01, 1.71641e+02]])"
            ]
          },
          "metadata": {},
          "execution_count": 16
        }
      ]
    },
    {
      "cell_type": "code",
      "source": [
        "def recommendations_fn(input_song_name, num_recommendations=10):\n",
        "    if input_song_name not in music_df['Name'].values:\n",
        "        print(f\"'{input_song_name}' not found.\")\n",
        "        return\n",
        "\n",
        "    input_song_index = music_df[music_df['Name'] == input_song_name].index[0]\n",
        "\n",
        "    similarity_scores = cosine_similarity([song_features_scaled[input_song_index]], song_features_scaled)\n",
        "\n",
        "    similar_song_indices = similarity_scores.argsort()[0][::-1][1:num_recommendations + 1]\n",
        "\n",
        "    content_based_recommendations = music_df.iloc[similar_song_indices][['Name', 'Artists', 'Album Name','Popularity']]\n",
        "\n",
        "    return content_based_recommendations\n",
        "\n"
      ],
      "metadata": {
        "id": "PZpZt_NiqQXW"
      },
      "execution_count": 23,
      "outputs": []
    },
    {
      "cell_type": "code",
      "source": [
        "input_song_name = \"Guli Mata\"\n",
        "recommendations = recommendations_fn(input_song_name, num_recommendations=5)\n",
        "print(f\"recommended songs for '{input_song_name}':\")\n",
        "print(recommendations)"
      ],
      "metadata": {
        "id": "D_UuS48zq7iM",
        "colab": {
          "base_uri": "https://localhost:8080/"
        },
        "outputId": "da20ecb8-92ff-4be2-b5e1-591605152295"
      },
      "execution_count": 24,
      "outputs": [
        {
          "output_type": "stream",
          "name": "stdout",
          "text": [
            "recommended songs for 'Guli Mata':\n",
            "                     Name                                     Artists  \\\n",
            "46  Deewane Hum Nahi Hote                                Aditya Yadav   \n",
            "20            Paani Paani                        Badshah, Aastha Gill   \n",
            "32            Hridhayavum  Vineeth Sreenivasan, Jyotsna Radhakrishnan   \n",
            "3        Dil Diyan Gallan    Vishal-Shekhar, Atif Aslam, Irshad Kamil   \n",
            "50  Yaen Ennai Pirindhaai                                  Sid Sriram   \n",
            "\n",
            "                                        Album Name  Popularity  \n",
            "46                           Deewane Hum Nahi Hote        58.0  \n",
            "20                                     Paani Paani        53.0  \n",
            "32  Note Book (Original Motion Picture Soundtrack)        55.0  \n",
            "3                                  Tiger Zinda Hai        71.0  \n",
            "50                                   Adithya Varma        58.0  \n"
          ]
        }
      ]
    },
    {
      "cell_type": "code",
      "source": [],
      "metadata": {
        "id": "yble24BAqmqJ"
      },
      "execution_count": null,
      "outputs": []
    },
    {
      "cell_type": "markdown",
      "source": [],
      "metadata": {
        "id": "oYC1Bqh6r0GU"
      }
    },
    {
      "cell_type": "markdown",
      "source": [],
      "metadata": {
        "id": "NmpPsX2C_18Y"
      }
    },
    {
      "cell_type": "code",
      "source": [],
      "metadata": {
        "id": "AgeDFdUIqlsy"
      },
      "execution_count": null,
      "outputs": []
    },
    {
      "cell_type": "code",
      "source": [],
      "metadata": {
        "id": "Yx-GFqcHLLNf"
      },
      "execution_count": null,
      "outputs": []
    }
  ]
}